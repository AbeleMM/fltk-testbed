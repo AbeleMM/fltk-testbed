{
 "cells": [
  {
   "cell_type": "code",
   "execution_count": 1,
   "metadata": {},
   "outputs": [],
   "source": [
    "#!conda install pandas numpy statsmodels openpyxl"
   ]
  },
  {
   "cell_type": "code",
   "execution_count": 2,
   "metadata": {},
   "outputs": [],
   "source": [
    "from itertools import product\n",
    "from typing import List, Tuple\n",
    "\n",
    "import pandas as pd\n",
    "import numpy as np\n",
    "\n",
    "import statsmodels.api as sm\n",
    "from statsmodels.formula.api import ols\n",
    "\n",
    "\n",
    "def gen_plan(*factors: Tuple[str, List], res_str: str, replications=3, save_path: str):\n",
    "    assert(len(factors) > 0)\n",
    "    assert(replications > 1)\n",
    "    \n",
    "    factor_names, factor_levels = zip(*factors)\n",
    "    cp = np.array(list(product(*factor_levels, range(replications))))\n",
    "    df_dict = {}\n",
    "    df_dict[res_str] = \"\"\n",
    "    for i in range(len(factor_names)):\n",
    "        df_dict[factor_names[i]] = cp[:, i]\n",
    "    df = pd.DataFrame(df_dict)\n",
    "    df.to_excel(save_path, index=False)\n",
    "\n",
    "def run_plan(save_path: str, sheet_name=0) -> sm.stats.anova_lm:\n",
    "    df = pd.read_excel(save_path, sheet_name=sheet_name)\n",
    "    key_it = iter(df.keys())\n",
    "    modelString = f\"{next(key_it)} ~ C({next(key_it)})\"\n",
    "    for key in key_it:\n",
    "        modelString += f\"*C({key})\"\n",
    "    model = ols(modelString, df).fit()\n",
    "\n",
    "    return sm.stats.anova_lm(model)\n",
    "\n",
    "# example usage:\n",
    "# gen_plan(('Processors', ['A', 'B']), ('Workloads', ['C', 'D']), res_str=\"Code_Size\", replications=2, save_path='test.xlsx')\n",
    "# fill in experiments results in spreadsheet\n",
    "# run_plan('test.xlsx', 0)"
   ]
  },
  {
   "cell_type": "markdown",
   "metadata": {},
   "source": [
    "# 2^k Factorial\n",
    "### \"executorMemory\" fixed at 8Gi for all experiments"
   ]
  },
  {
   "cell_type": "code",
   "execution_count": null,
   "metadata": {},
   "outputs": [],
   "source": []
  }
 ],
 "metadata": {
  "interpreter": {
   "hash": "98f59d93a13672cd04f550e7e2825c834815362af200246d282437e4453ad39a"
  },
  "kernelspec": {
   "display_name": "Python 3.7.11 64-bit ('qpecs_conda': conda)",
   "name": "python3"
  },
  "language_info": {
   "codemirror_mode": {
    "name": "ipython",
    "version": 3
   },
   "file_extension": ".py",
   "mimetype": "text/x-python",
   "name": "python",
   "nbconvert_exporter": "python",
   "pygments_lexer": "ipython3",
   "version": "3.7.11"
  }
 },
 "nbformat": 4,
 "nbformat_minor": 4
}
